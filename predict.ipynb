{
 "cells": [
  {
   "cell_type": "code",
   "execution_count": 5,
   "id": "f1af9c14",
   "metadata": {},
   "outputs": [
    {
     "name": "stderr",
     "output_type": "stream",
     "text": [
      "WARNING:absl:Compiled the loaded model, but the compiled metrics have yet to be built. `model.compile_metrics` will be empty until you train or evaluate the model.\n"
     ]
    },
    {
     "name": "stdout",
     "output_type": "stream",
     "text": [
      "\u001b[1m1/1\u001b[0m \u001b[32m━━━━━━━━━━━━━━━━━━━━\u001b[0m\u001b[37m\u001b[0m \u001b[1m0s\u001b[0m 124ms/step\n",
      "Prediksi: happy (86.52%)\n"
     ]
    },
    {
     "data": {
      "image/png": "[encoded data removed]",
      "text/plain": [
       "<Figure size 640x480 with 1 Axes>"
      ]
     },
     "metadata": {},
     "output_type": "display_data"
    }
   ],
   "source": [
    "import os\n",
    "import cv2\n",
    "import numpy as np\n",
    "from tensorflow.keras.models import load_model\n",
    "import matplotlib.pyplot as plt\n",
    "\n",
    "# Konstanta\n",
    "IMG_SIZE = 48\n",
    "MODEL_PATH = 'models/emotion_model.h5'\n",
    "emotion_labels = ['angry', 'disgust', 'fear', 'happy', 'sad', 'surprise', 'neutral']  # urutkan sesuai folder training\n",
    "\n",
    "# Load model\n",
    "if not os.path.exists(MODEL_PATH):\n",
    "    raise FileNotFoundError(f\"Model tidak ditemukan di path: {MODEL_PATH}\")\n",
    "model = load_model(MODEL_PATH)\n",
    "\n",
    "# Fungsi prediksi gambar\n",
    "def predict_emotion(img_path):\n",
    "    if not os.path.exists(img_path):\n",
    "        print(f\"Gambar tidak ditemukan: {img_path}\")\n",
    "        return\n",
    "\n",
    "    img = cv2.imread(img_path, cv2.IMREAD_GRAYSCALE)\n",
    "    if img is None:\n",
    "        print(\"Gagal membaca gambar. Format mungkin tidak didukung.\")\n",
    "        return\n",
    "\n",
    "    img_resized = cv2.resize(img, (IMG_SIZE, IMG_SIZE))\n",
    "    img_norm = img_resized / 255.0\n",
    "    img_input = img_norm.reshape(1, IMG_SIZE, IMG_SIZE, 1)\n",
    "    \n",
    "    prediction = model.predict(img_input)\n",
    "    label = emotion_labels[np.argmax(prediction)]\n",
    "    confidence = np.max(prediction)\n",
    "    \n",
    "    print(f\"Prediksi: {label} ({confidence*100:.2f}%)\")\n",
    "\n",
    "    # Tampilkan gambar\n",
    "    plt.imshow(img_resized, cmap='gray')\n",
    "    plt.title(f\"{label} ({confidence*100:.2f}%)\")\n",
    "    plt.axis('off')\n",
    "    plt.show()\n",
    "\n",
    "# Contoh penggunaan (PASTIKAN FILE INI ADA)\n",
    "predict_emotion(\"images/happy_face.jpg\")\n"
   ]
  }
 ],
 "metadata": {
  "kernelspec": {
   "display_name": "Python 3",
   "language": "python",
   "name": "python3"
  },
  "language_info": {
   "codemirror_mode": {
    "name": "ipython",
    "version": 3
   },
   "file_extension": ".py",
   "mimetype": "text/x-python",
   "name": "python",
   "nbconvert_exporter": "python",
   "pygments_lexer": "ipython3",
   "version": "3.10.0"
  }
 },
 "nbformat": 4,
 "nbformat_minor": 5
}
